{
 "cells": [
  {
   "cell_type": "code",
   "execution_count": 88,
   "id": "55f0b61d-f173-4397-859d-0e7a63ec40e0",
   "metadata": {},
   "outputs": [],
   "source": [
    "import json\n",
    "from matplotlib import pyplot as plt\n",
    "import matplotlib.image as mpimg\n",
    "import numpy as np\n",
    "from tqdm import tqdm as progress\n",
    "from glob import glob\n",
    "from skimage.transform import resize as sk_resize\n",
    "from scipy.ndimage import zoom\n",
    "from PIL import Image"
   ]
  },
  {
   "cell_type": "code",
   "execution_count": 90,
   "id": "98295da6-12c0-4e65-aae5-67769fd3a3d5",
   "metadata": {},
   "outputs": [],
   "source": [
    "def getImageSeq(group, color):\n",
    "    pattern = f\"../data/DAVIS_SEG/segmented_objects/{group}/*_object_{color}.png\"\n",
    "    \n",
    "    # Load all frames first\n",
    "    frames = []\n",
    "    for fn in sorted(glob(pattern)):\n",
    "        frame = mpimg.imread(fn)\n",
    "        frames.append(frame)\n",
    "    \n",
    "    if not frames:\n",
    "        return frames\n",
    "    \n",
    "    # Find global bounding box across all frames\n",
    "    min_x, min_y = float('inf'), float('inf')\n",
    "    max_x, max_y = 0, 0\n",
    "    \n",
    "    for frame in frames:\n",
    "        # Check for alpha channel (transparency)\n",
    "        if frame.shape[2] == 4:  # RGBA\n",
    "            # Find non-transparent pixels\n",
    "            non_transparent = np.where(frame[:,:,3] > 0)\n",
    "        else:  # RGB or other format without transparency\n",
    "            # Assume any non-black pixel is part of the object\n",
    "            non_transparent = np.where(np.sum(frame, axis=2) > 0)\n",
    "        \n",
    "        if len(non_transparent[0]) > 0:  # If there are non-transparent pixels\n",
    "            y_indices, x_indices = non_transparent\n",
    "            min_x = min(min_x, np.min(x_indices))\n",
    "            min_y = min(min_y, np.min(y_indices))\n",
    "            max_x = max(max_x, np.max(x_indices))\n",
    "            max_y = max(max_y, np.max(y_indices))\n",
    "    \n",
    "    # Handle case where no non-transparent pixels were found\n",
    "    if min_x == float('inf'):\n",
    "        return frames\n",
    "    \n",
    "    # Crop all frames to the bounding box\n",
    "    cropped_frames = []\n",
    "    for frame in frames:\n",
    "        cropped = frame[min_y:max_y+1, min_x:max_x+1]\n",
    "        cropped_frames.append(cropped)\n",
    "    \n",
    "    return cropped_frames"
   ]
  },
  {
   "cell_type": "code",
   "execution_count": 91,
   "id": "c217b883-d19d-4502-b1f2-b66c8fb893e8",
   "metadata": {},
   "outputs": [],
   "source": [
    "import numpy as np\n",
    "from scipy.ndimage import zoom\n",
    "\n",
    "def blit_transparent_image(canvas, stamp, min_x, min_y, max_x, max_y):\n",
    "    \"\"\"\n",
    "    Blits a transparent stamp image onto a canvas image within specified coordinates.\n",
    "    \n",
    "    Parameters:\n",
    "    -----------\n",
    "    canvas : numpy.ndarray\n",
    "        The target image with shape (H, W, C) where C is either 3 (RGB) or 4 (RGBA).\n",
    "    stamp : numpy.ndarray\n",
    "        The source image with shape (N, N, 4) including alpha channel.\n",
    "    min_x, min_y : int\n",
    "        The top-left corner coordinates on the canvas where the stamp should be placed.\n",
    "    max_x, max_y : int\n",
    "        The bottom-right corner coordinates on the canvas where the stamp should be placed.\n",
    "    \n",
    "    Returns:\n",
    "    --------\n",
    "    numpy.ndarray\n",
    "        The modified canvas with the stamp blitted onto it.\n",
    "    \"\"\"\n",
    "    # Make sure canvas has an alpha channel\n",
    "    if canvas.shape[2] == 3:\n",
    "        new_canvas = np.zeros((canvas.shape[0], canvas.shape[1], 4), dtype=np.uint8)\n",
    "        new_canvas[:, :, :3] = canvas\n",
    "        new_canvas[:, :, 3] = 255  # Fully opaque\n",
    "        canvas = new_canvas\n",
    "    \n",
    "    # Make sure our coordinates are within the canvas boundaries\n",
    "    min_x = max(0, min_x)\n",
    "    max_x = min(canvas.shape[1], max_x)\n",
    "    min_y = max(0, min_y)\n",
    "    max_y = min(canvas.shape[0], max_y)\n",
    "    \n",
    "    # Check if we have a valid region to blit into\n",
    "    if min_x >= max_x or min_y >= max_y:\n",
    "        print(\"Warning: Invalid blitting region, coordinates result in empty area\")\n",
    "        return canvas\n",
    "    \n",
    "    # Calculate the scale factors\n",
    "    target_width = max_x - min_x\n",
    "    target_height = max_y - min_y\n",
    "    \n",
    "    # Check if we need to actually scale the stamp\n",
    "    if stamp.shape[0] != target_height or stamp.shape[1] != target_width:\n",
    "        # Calculate zoom factors\n",
    "        zoom_y = target_height / stamp.shape[0]\n",
    "        zoom_x = target_width / stamp.shape[1]\n",
    "        \n",
    "        # Scale the stamp to fit the target region\n",
    "        scaled_stamp = zoom(stamp, (zoom_y, zoom_x, 1), order=1)\n",
    "    else:\n",
    "        scaled_stamp = stamp\n",
    "    \n",
    "    # Get the region where we'll blit the stamp\n",
    "    region_height = max_y - min_y\n",
    "    region_width = max_x - min_x\n",
    "    \n",
    "    # Ensure the scaled stamp has the right dimensions by cropping if necessary\n",
    "    if scaled_stamp.shape[0] > region_height or scaled_stamp.shape[1] > region_width:\n",
    "        scaled_stamp = scaled_stamp[:region_height, :region_width, :]\n",
    "    \n",
    "    # Handle case where scaled stamp is smaller than region\n",
    "    if scaled_stamp.shape[0] < region_height or scaled_stamp.shape[1] < region_width:\n",
    "        temp_stamp = np.zeros((region_height, region_width, 4), dtype=scaled_stamp.dtype)\n",
    "        temp_stamp[:scaled_stamp.shape[0], :scaled_stamp.shape[1], :] = scaled_stamp\n",
    "        scaled_stamp = temp_stamp\n",
    "    \n",
    "    # Sanity check to ensure shapes match before blending\n",
    "    if (scaled_stamp.shape[0] != region_height or \n",
    "        scaled_stamp.shape[1] != region_width or\n",
    "        min_y + region_height > canvas.shape[0] or\n",
    "        min_x + region_width > canvas.shape[1]):\n",
    "        print(f\"Shape mismatch: stamp={scaled_stamp.shape}, region={region_height}x{region_width}\")\n",
    "        print(f\"Canvas shape: {canvas.shape}, region: {min_y}:{max_y}, {min_x}:{max_x}\")\n",
    "        return canvas  # Return unmodified canvas if shapes don't match\n",
    "    \n",
    "    # Extract alpha channels\n",
    "    alpha_stamp = scaled_stamp[:, :, 3] / 255.0\n",
    "    alpha_canvas = canvas[min_y:max_y, min_x:max_x, 3] / 255.0\n",
    "    \n",
    "    # Calculate the resulting alpha\n",
    "    alpha_result = alpha_stamp + alpha_canvas * (1 - alpha_stamp)\n",
    "    \n",
    "    # Prevent division by zero\n",
    "    mask = alpha_result > 0\n",
    "    \n",
    "    # Initialize the blended result for RGB channels\n",
    "    blended = np.zeros((region_height, region_width, 3), dtype=np.float32)\n",
    "    \n",
    "    # Blend RGB channels where alpha is non-zero\n",
    "    for c in range(3):\n",
    "        blended[:, :, c][mask] = (\n",
    "            (scaled_stamp[:, :, c][mask] * alpha_stamp[mask] + \n",
    "             canvas[min_y:max_y, min_x:max_x, c][mask] * alpha_canvas[mask] * (1 - alpha_stamp[mask])) \n",
    "            / alpha_result[mask]\n",
    "        )\n",
    "    \n",
    "    # Update the canvas\n",
    "    canvas[min_y:max_y, min_x:max_x, :3][mask] = blended[mask]\n",
    "    canvas[min_y:max_y, min_x:max_x, 3] = (alpha_result * 255).astype(np.uint8)\n",
    "    \n",
    "    return canvas"
   ]
  },
  {
   "cell_type": "code",
   "execution_count": 92,
   "id": "5c4656f1-eede-48db-9182-519b2363a5d2",
   "metadata": {},
   "outputs": [],
   "source": [
    "with open(\"../tiling.json\", \"r\") as f:\n",
    "    tilingJSON = json.load(f)"
   ]
  },
  {
   "cell_type": "code",
   "execution_count": 93,
   "id": "378fb981-2997-4072-a1fa-e9b14aa58bbb",
   "metadata": {},
   "outputs": [],
   "source": [
    "minF = tilingJSON[0][\"minF\"]\n",
    "maxF = tilingJSON[0][\"maxF\"]\n",
    "minX = tilingJSON[0][\"minX\"]\n",
    "maxX = tilingJSON[0][\"maxX\"]\n",
    "minY = tilingJSON[0][\"minY\"]\n",
    "maxY = tilingJSON[0][\"maxY\"]\n",
    "for tile in tilingJSON:\n",
    "    minF = min(minF, tile[\"minF\"])\n",
    "    maxF = max(maxF, tile[\"maxF\"])\n",
    "\n",
    "    minX = min(minX, tile[\"minX\"])\n",
    "    maxX = max(maxX, tile[\"maxX\"])\n",
    "\n",
    "    minY = min(minY, tile[\"minY\"])\n",
    "    maxY = max(maxY, tile[\"maxY\"])\n",
    "    \n",
    "minF = max(0, minF)"
   ]
  },
  {
   "cell_type": "code",
   "execution_count": 99,
   "id": "9abe68a8-a9f0-4c7e-b8b0-3d8261617f6a",
   "metadata": {},
   "outputs": [
    {
     "name": "stdout",
     "output_type": "stream",
     "text": [
      "Processing frame 0 of 80...\n"
     ]
    },
    {
     "name": "stderr",
     "output_type": "stream",
     "text": [
      "100%|█████████████████████████████████████████████████████████████████████████████████████████████████████████████████████████████████| 164/164 [00:02<00:00, 54.81it/s]\n"
     ]
    },
    {
     "name": "stdout",
     "output_type": "stream",
     "text": [
      "Processing frame 1 of 80...\n"
     ]
    },
    {
     "name": "stderr",
     "output_type": "stream",
     "text": [
      "100%|█████████████████████████████████████████████████████████████████████████████████████████████████████████████████████████████████| 164/164 [00:07<00:00, 21.66it/s]\n"
     ]
    },
    {
     "name": "stdout",
     "output_type": "stream",
     "text": [
      "Processing frame 2 of 80...\n"
     ]
    },
    {
     "name": "stderr",
     "output_type": "stream",
     "text": [
      "100%|████████████████████████████████████████████| 164/164 [00:08<00:00, 19.17it/s]\n"
     ]
    },
    {
     "name": "stdout",
     "output_type": "stream",
     "text": [
      "Processing frame 3 of 80...\n"
     ]
    },
    {
     "name": "stderr",
     "output_type": "stream",
     "text": [
      "100%|████████████████████████████████████████████| 164/164 [00:11<00:00, 14.70it/s]\n"
     ]
    },
    {
     "name": "stdout",
     "output_type": "stream",
     "text": [
      "Processing frame 4 of 80...\n"
     ]
    },
    {
     "name": "stderr",
     "output_type": "stream",
     "text": [
      "100%|████████████████████████████████████████████| 164/164 [00:14<00:00, 11.50it/s]\n"
     ]
    },
    {
     "name": "stdout",
     "output_type": "stream",
     "text": [
      "Processing frame 5 of 80...\n"
     ]
    },
    {
     "name": "stderr",
     "output_type": "stream",
     "text": [
      "100%|████████████████████████████████████████████| 164/164 [00:17<00:00,  9.13it/s]\n"
     ]
    },
    {
     "name": "stdout",
     "output_type": "stream",
     "text": [
      "Processing frame 6 of 80...\n"
     ]
    },
    {
     "name": "stderr",
     "output_type": "stream",
     "text": [
      "100%|████████████████████████████████████████████| 164/164 [00:20<00:00,  8.12it/s]\n"
     ]
    },
    {
     "name": "stdout",
     "output_type": "stream",
     "text": [
      "Processing frame 7 of 80...\n"
     ]
    },
    {
     "name": "stderr",
     "output_type": "stream",
     "text": [
      "100%|████████████████████████████████████████████| 164/164 [00:23<00:00,  7.09it/s]\n"
     ]
    },
    {
     "name": "stdout",
     "output_type": "stream",
     "text": [
      "Processing frame 8 of 80...\n"
     ]
    },
    {
     "name": "stderr",
     "output_type": "stream",
     "text": [
      "100%|████████████████████████████████████████████| 164/164 [00:25<00:00,  6.32it/s]\n"
     ]
    },
    {
     "name": "stdout",
     "output_type": "stream",
     "text": [
      "Processing frame 9 of 80...\n"
     ]
    },
    {
     "name": "stderr",
     "output_type": "stream",
     "text": [
      "100%|████████████████████████████████████████████| 164/164 [00:30<00:00,  5.30it/s]\n"
     ]
    },
    {
     "name": "stdout",
     "output_type": "stream",
     "text": [
      "Processing frame 10 of 80...\n"
     ]
    },
    {
     "name": "stderr",
     "output_type": "stream",
     "text": [
      "100%|████████████████████████████████████████████| 164/164 [00:32<00:00,  5.06it/s]\n"
     ]
    },
    {
     "name": "stdout",
     "output_type": "stream",
     "text": [
      "Processing frame 11 of 80...\n"
     ]
    },
    {
     "name": "stderr",
     "output_type": "stream",
     "text": [
      "100%|████████████████████████████████████████████| 164/164 [00:31<00:00,  5.14it/s]\n"
     ]
    },
    {
     "name": "stdout",
     "output_type": "stream",
     "text": [
      "Processing frame 12 of 80...\n"
     ]
    },
    {
     "name": "stderr",
     "output_type": "stream",
     "text": [
      "100%|████████████████████████████████████████████| 164/164 [00:39<00:00,  4.13it/s]\n"
     ]
    },
    {
     "name": "stdout",
     "output_type": "stream",
     "text": [
      "Processing frame 13 of 80...\n"
     ]
    },
    {
     "name": "stderr",
     "output_type": "stream",
     "text": [
      "100%|████████████████████████████████████████████| 164/164 [00:40<00:00,  4.03it/s]\n"
     ]
    },
    {
     "name": "stdout",
     "output_type": "stream",
     "text": [
      "Processing frame 14 of 80...\n"
     ]
    },
    {
     "name": "stderr",
     "output_type": "stream",
     "text": [
      "100%|████████████████████████████████████████████| 164/164 [00:43<00:00,  3.81it/s]\n"
     ]
    },
    {
     "name": "stdout",
     "output_type": "stream",
     "text": [
      "Processing frame 15 of 80...\n"
     ]
    },
    {
     "name": "stderr",
     "output_type": "stream",
     "text": [
      "100%|████████████████████████████████████████████| 164/164 [00:39<00:00,  4.16it/s]\n"
     ]
    },
    {
     "name": "stdout",
     "output_type": "stream",
     "text": [
      "Processing frame 16 of 80...\n"
     ]
    },
    {
     "name": "stderr",
     "output_type": "stream",
     "text": [
      "100%|████████████████████████████████████████████| 164/164 [00:36<00:00,  4.44it/s]\n"
     ]
    },
    {
     "name": "stdout",
     "output_type": "stream",
     "text": [
      "Processing frame 17 of 80...\n"
     ]
    },
    {
     "name": "stderr",
     "output_type": "stream",
     "text": [
      "100%|████████████████████████████████████████████| 164/164 [00:36<00:00,  4.43it/s]\n"
     ]
    },
    {
     "name": "stdout",
     "output_type": "stream",
     "text": [
      "Processing frame 18 of 80...\n"
     ]
    },
    {
     "name": "stderr",
     "output_type": "stream",
     "text": [
      "100%|████████████████████████████████████████████| 164/164 [00:38<00:00,  4.21it/s]\n"
     ]
    },
    {
     "name": "stdout",
     "output_type": "stream",
     "text": [
      "Processing frame 19 of 80...\n"
     ]
    },
    {
     "name": "stderr",
     "output_type": "stream",
     "text": [
      "100%|████████████████████████████████████████████| 164/164 [00:40<00:00,  4.02it/s]\n"
     ]
    },
    {
     "name": "stdout",
     "output_type": "stream",
     "text": [
      "Processing frame 20 of 80...\n"
     ]
    },
    {
     "name": "stderr",
     "output_type": "stream",
     "text": [
      "100%|████████████████████████████████████████████| 164/164 [00:41<00:00,  3.98it/s]\n"
     ]
    },
    {
     "name": "stdout",
     "output_type": "stream",
     "text": [
      "Processing frame 21 of 80...\n"
     ]
    },
    {
     "name": "stderr",
     "output_type": "stream",
     "text": [
      "100%|████████████████████████████████████████████| 164/164 [00:48<00:00,  3.41it/s]\n"
     ]
    },
    {
     "name": "stdout",
     "output_type": "stream",
     "text": [
      "Processing frame 22 of 80...\n"
     ]
    },
    {
     "name": "stderr",
     "output_type": "stream",
     "text": [
      "100%|████████████████████████████████████████████| 164/164 [00:48<00:00,  3.38it/s]\n"
     ]
    },
    {
     "name": "stdout",
     "output_type": "stream",
     "text": [
      "Processing frame 23 of 80...\n"
     ]
    },
    {
     "name": "stderr",
     "output_type": "stream",
     "text": [
      "100%|████████████████████████████████████████████| 164/164 [00:52<00:00,  3.10it/s]\n"
     ]
    },
    {
     "name": "stdout",
     "output_type": "stream",
     "text": [
      "Processing frame 24 of 80...\n"
     ]
    },
    {
     "name": "stderr",
     "output_type": "stream",
     "text": [
      "100%|████████████████████████████████████████████| 164/164 [00:44<00:00,  3.68it/s]\n"
     ]
    },
    {
     "name": "stdout",
     "output_type": "stream",
     "text": [
      "Processing frame 25 of 80...\n"
     ]
    },
    {
     "name": "stderr",
     "output_type": "stream",
     "text": [
      "100%|████████████████████████████████████████████| 164/164 [00:45<00:00,  3.60it/s]\n"
     ]
    },
    {
     "name": "stdout",
     "output_type": "stream",
     "text": [
      "Processing frame 26 of 80...\n"
     ]
    },
    {
     "name": "stderr",
     "output_type": "stream",
     "text": [
      "100%|████████████████████████████████████████████| 164/164 [00:41<00:00,  3.94it/s]\n"
     ]
    },
    {
     "name": "stdout",
     "output_type": "stream",
     "text": [
      "Processing frame 27 of 80...\n"
     ]
    },
    {
     "name": "stderr",
     "output_type": "stream",
     "text": [
      "100%|████████████████████████████████████████████| 164/164 [00:42<00:00,  3.83it/s]\n"
     ]
    },
    {
     "name": "stdout",
     "output_type": "stream",
     "text": [
      "Processing frame 28 of 80...\n"
     ]
    },
    {
     "name": "stderr",
     "output_type": "stream",
     "text": [
      "100%|████████████████████████████████████████████| 164/164 [00:40<00:00,  4.03it/s]\n"
     ]
    },
    {
     "name": "stdout",
     "output_type": "stream",
     "text": [
      "Processing frame 29 of 80...\n"
     ]
    },
    {
     "name": "stderr",
     "output_type": "stream",
     "text": [
      "100%|██████████████████████████████████████████████████████████████████████████████████████| 164/164 [00:43<00:00,  3.75it/s]\n"
     ]
    },
    {
     "name": "stdout",
     "output_type": "stream",
     "text": [
      "Processing frame 30 of 80...\n"
     ]
    },
    {
     "name": "stderr",
     "output_type": "stream",
     "text": [
      "100%|██████████████████████████████████████████████████████████████████████████████████████| 164/164 [00:43<00:00,  3.73it/s]\n"
     ]
    },
    {
     "name": "stdout",
     "output_type": "stream",
     "text": [
      "Processing frame 31 of 80...\n"
     ]
    },
    {
     "name": "stderr",
     "output_type": "stream",
     "text": [
      "100%|██████████████████████████████████████████████████████████████████████████████████████| 164/164 [00:44<00:00,  3.68it/s]\n"
     ]
    },
    {
     "name": "stdout",
     "output_type": "stream",
     "text": [
      "Processing frame 32 of 80...\n"
     ]
    },
    {
     "name": "stderr",
     "output_type": "stream",
     "text": [
      "100%|██████████████████████████████████████████████████████████████████████████████████████| 164/164 [00:44<00:00,  3.70it/s]\n"
     ]
    },
    {
     "name": "stdout",
     "output_type": "stream",
     "text": [
      "Processing frame 33 of 80...\n"
     ]
    },
    {
     "name": "stderr",
     "output_type": "stream",
     "text": [
      "100%|██████████████████████████████████████████████████████████████████████████████████████| 164/164 [00:39<00:00,  4.12it/s]\n"
     ]
    },
    {
     "name": "stdout",
     "output_type": "stream",
     "text": [
      "Processing frame 34 of 80...\n"
     ]
    },
    {
     "name": "stderr",
     "output_type": "stream",
     "text": [
      "100%|██████████████████████████████████████████████████████████████████████████████████████| 164/164 [00:41<00:00,  3.99it/s]\n"
     ]
    },
    {
     "name": "stdout",
     "output_type": "stream",
     "text": [
      "Processing frame 35 of 80...\n"
     ]
    },
    {
     "name": "stderr",
     "output_type": "stream",
     "text": [
      "100%|██████████████████████████████████████████████████████████████████████████████████████| 164/164 [00:39<00:00,  4.13it/s]\n"
     ]
    },
    {
     "name": "stdout",
     "output_type": "stream",
     "text": [
      "Processing frame 36 of 80...\n"
     ]
    },
    {
     "name": "stderr",
     "output_type": "stream",
     "text": [
      "100%|██████████████████████████████████████████████████████████████████████████████████████| 164/164 [00:39<00:00,  4.14it/s]\n"
     ]
    },
    {
     "name": "stdout",
     "output_type": "stream",
     "text": [
      "Processing frame 37 of 80...\n"
     ]
    },
    {
     "name": "stderr",
     "output_type": "stream",
     "text": [
      "100%|██████████████████████████████████████████████████████████████████████████████████████| 164/164 [00:44<00:00,  3.72it/s]\n"
     ]
    },
    {
     "name": "stdout",
     "output_type": "stream",
     "text": [
      "Processing frame 38 of 80...\n"
     ]
    },
    {
     "name": "stderr",
     "output_type": "stream",
     "text": [
      "100%|██████████████████████████████████████████████████████████████████████████████████████| 164/164 [00:39<00:00,  4.18it/s]\n"
     ]
    },
    {
     "name": "stdout",
     "output_type": "stream",
     "text": [
      "Processing frame 39 of 80...\n"
     ]
    },
    {
     "name": "stderr",
     "output_type": "stream",
     "text": [
      "100%|██████████████████████████████████████████████████████████████████████████████████████| 164/164 [00:42<00:00,  3.84it/s]\n"
     ]
    },
    {
     "name": "stdout",
     "output_type": "stream",
     "text": [
      "Processing frame 40 of 80...\n"
     ]
    },
    {
     "name": "stderr",
     "output_type": "stream",
     "text": [
      "100%|██████████████████████████████████████████████████████████████████████████████████████| 164/164 [00:42<00:00,  3.87it/s]\n"
     ]
    },
    {
     "name": "stdout",
     "output_type": "stream",
     "text": [
      "Processing frame 41 of 80...\n"
     ]
    },
    {
     "name": "stderr",
     "output_type": "stream",
     "text": [
      "100%|██████████████████████████████████████████████████████████████████████████████████████| 164/164 [00:44<00:00,  3.67it/s]\n"
     ]
    },
    {
     "name": "stdout",
     "output_type": "stream",
     "text": [
      "Processing frame 42 of 80...\n"
     ]
    },
    {
     "name": "stderr",
     "output_type": "stream",
     "text": [
      "100%|██████████████████████████████████████████████████████████████████████████████████████| 164/164 [00:41<00:00,  3.95it/s]\n"
     ]
    },
    {
     "name": "stdout",
     "output_type": "stream",
     "text": [
      "Processing frame 43 of 80...\n"
     ]
    },
    {
     "name": "stderr",
     "output_type": "stream",
     "text": [
      "100%|██████████████████████████████████████████████████████████████████████████████████████| 164/164 [00:43<00:00,  3.78it/s]\n"
     ]
    },
    {
     "name": "stdout",
     "output_type": "stream",
     "text": [
      "Processing frame 44 of 80...\n"
     ]
    },
    {
     "name": "stderr",
     "output_type": "stream",
     "text": [
      "100%|██████████████████████████████████████████████████████████████████████████████████████| 164/164 [00:41<00:00,  3.98it/s]\n"
     ]
    },
    {
     "name": "stdout",
     "output_type": "stream",
     "text": [
      "Processing frame 45 of 80...\n"
     ]
    },
    {
     "name": "stderr",
     "output_type": "stream",
     "text": [
      "100%|██████████████████████████████████████████████████████████████████████████████████████| 164/164 [00:41<00:00,  3.95it/s]\n"
     ]
    },
    {
     "name": "stdout",
     "output_type": "stream",
     "text": [
      "Processing frame 46 of 80...\n"
     ]
    },
    {
     "name": "stderr",
     "output_type": "stream",
     "text": [
      "100%|██████████████████████████████████████████████████████████████████████████████████████| 164/164 [00:38<00:00,  4.27it/s]\n"
     ]
    },
    {
     "name": "stdout",
     "output_type": "stream",
     "text": [
      "Processing frame 47 of 80...\n"
     ]
    },
    {
     "name": "stderr",
     "output_type": "stream",
     "text": [
      "100%|██████████████████████████████████████████████████████████████████████████████████████| 164/164 [00:36<00:00,  4.52it/s]\n"
     ]
    },
    {
     "name": "stdout",
     "output_type": "stream",
     "text": [
      "Processing frame 48 of 80...\n"
     ]
    },
    {
     "name": "stderr",
     "output_type": "stream",
     "text": [
      "100%|██████████████████████████████████████████████████████████████████████████████████████| 164/164 [00:35<00:00,  4.57it/s]\n"
     ]
    },
    {
     "name": "stdout",
     "output_type": "stream",
     "text": [
      "Processing frame 49 of 80...\n"
     ]
    },
    {
     "name": "stderr",
     "output_type": "stream",
     "text": [
      "100%|██████████████████████████████████████████████████████████████████████████████████████| 164/164 [00:34<00:00,  4.76it/s]\n"
     ]
    },
    {
     "name": "stdout",
     "output_type": "stream",
     "text": [
      "Processing frame 50 of 80...\n"
     ]
    },
    {
     "name": "stderr",
     "output_type": "stream",
     "text": [
      "100%|██████████████████████████████████████████████████████████████████████████████████████| 164/164 [00:32<00:00,  5.00it/s]\n"
     ]
    },
    {
     "name": "stdout",
     "output_type": "stream",
     "text": [
      "Processing frame 51 of 80...\n"
     ]
    },
    {
     "name": "stderr",
     "output_type": "stream",
     "text": [
      "100%|██████████████████████████████████████████████████████████████████████████████████████| 164/164 [00:32<00:00,  5.03it/s]\n"
     ]
    },
    {
     "name": "stdout",
     "output_type": "stream",
     "text": [
      "Processing frame 52 of 80...\n"
     ]
    },
    {
     "name": "stderr",
     "output_type": "stream",
     "text": [
      "100%|██████████████████████████████████████████████████████████████████████████████████████| 164/164 [00:36<00:00,  4.50it/s]\n"
     ]
    },
    {
     "name": "stdout",
     "output_type": "stream",
     "text": [
      "Processing frame 53 of 80...\n"
     ]
    },
    {
     "name": "stderr",
     "output_type": "stream",
     "text": [
      "100%|██████████████████████████████████████████████████████████████████████████████████████| 164/164 [00:37<00:00,  4.43it/s]\n"
     ]
    },
    {
     "name": "stdout",
     "output_type": "stream",
     "text": [
      "Processing frame 54 of 80...\n"
     ]
    },
    {
     "name": "stderr",
     "output_type": "stream",
     "text": [
      "100%|██████████████████████████████████████████████████████████████████████████████████████| 164/164 [00:32<00:00,  5.01it/s]\n"
     ]
    },
    {
     "name": "stdout",
     "output_type": "stream",
     "text": [
      "Processing frame 55 of 80...\n"
     ]
    },
    {
     "name": "stderr",
     "output_type": "stream",
     "text": [
      "100%|██████████████████████████████████████████████████████████████████████████████████████| 164/164 [00:32<00:00,  5.04it/s]\n"
     ]
    },
    {
     "name": "stdout",
     "output_type": "stream",
     "text": [
      "Processing frame 56 of 80...\n"
     ]
    },
    {
     "name": "stderr",
     "output_type": "stream",
     "text": [
      "100%|██████████████████████████████████████████████████████████████████████████████████████| 164/164 [00:31<00:00,  5.22it/s]\n"
     ]
    },
    {
     "name": "stdout",
     "output_type": "stream",
     "text": [
      "Processing frame 57 of 80...\n"
     ]
    },
    {
     "name": "stderr",
     "output_type": "stream",
     "text": [
      "100%|██████████████████████████████████████████████████████████████████████████████████████| 164/164 [00:30<00:00,  5.34it/s]\n"
     ]
    },
    {
     "name": "stdout",
     "output_type": "stream",
     "text": [
      "Processing frame 58 of 80...\n"
     ]
    },
    {
     "name": "stderr",
     "output_type": "stream",
     "text": [
      "100%|██████████████████████████████████████████████████████████████████████████████████████| 164/164 [00:30<00:00,  5.46it/s]\n"
     ]
    },
    {
     "name": "stdout",
     "output_type": "stream",
     "text": [
      "Processing frame 59 of 80...\n"
     ]
    },
    {
     "name": "stderr",
     "output_type": "stream",
     "text": [
      "100%|██████████████████████████████████████████████████████████████████████████████████████| 164/164 [00:29<00:00,  5.54it/s]\n"
     ]
    },
    {
     "name": "stdout",
     "output_type": "stream",
     "text": [
      "Processing frame 60 of 80...\n"
     ]
    },
    {
     "name": "stderr",
     "output_type": "stream",
     "text": [
      "100%|██████████████████████████████████████████████████████████████████████████████████████| 164/164 [00:30<00:00,  5.42it/s]\n"
     ]
    },
    {
     "name": "stdout",
     "output_type": "stream",
     "text": [
      "Processing frame 61 of 80...\n"
     ]
    },
    {
     "name": "stderr",
     "output_type": "stream",
     "text": [
      "100%|██████████████████████████████████████████████████████████████████████████████████████| 164/164 [00:27<00:00,  5.91it/s]\n"
     ]
    },
    {
     "name": "stdout",
     "output_type": "stream",
     "text": [
      "Processing frame 62 of 80...\n"
     ]
    },
    {
     "name": "stderr",
     "output_type": "stream",
     "text": [
      "100%|██████████████████████████████████████████████████████████████████████████████████████| 164/164 [00:28<00:00,  5.85it/s]\n"
     ]
    },
    {
     "name": "stdout",
     "output_type": "stream",
     "text": [
      "Processing frame 63 of 80...\n"
     ]
    },
    {
     "name": "stderr",
     "output_type": "stream",
     "text": [
      "100%|██████████████████████████████████████████████████████████████████████████████████████| 164/164 [00:25<00:00,  6.32it/s]\n"
     ]
    },
    {
     "name": "stdout",
     "output_type": "stream",
     "text": [
      "Processing frame 64 of 80...\n"
     ]
    },
    {
     "name": "stderr",
     "output_type": "stream",
     "text": [
      "100%|██████████████████████████████████████████████████████████████████████████████████████| 164/164 [00:23<00:00,  6.84it/s]\n"
     ]
    },
    {
     "name": "stdout",
     "output_type": "stream",
     "text": [
      "Processing frame 65 of 80...\n"
     ]
    },
    {
     "name": "stderr",
     "output_type": "stream",
     "text": [
      "100%|██████████████████████████████████████████████████████████████████████████████████████| 164/164 [00:24<00:00,  6.56it/s]\n"
     ]
    },
    {
     "name": "stdout",
     "output_type": "stream",
     "text": [
      "Processing frame 66 of 80...\n"
     ]
    },
    {
     "name": "stderr",
     "output_type": "stream",
     "text": [
      "100%|██████████████████████████████████████████████████████████████████████████████████████| 164/164 [00:25<00:00,  6.44it/s]\n"
     ]
    },
    {
     "name": "stdout",
     "output_type": "stream",
     "text": [
      "Processing frame 67 of 80...\n"
     ]
    },
    {
     "name": "stderr",
     "output_type": "stream",
     "text": [
      "100%|██████████████████████████████████████████████████████████████████████████████████████| 164/164 [00:25<00:00,  6.52it/s]\n"
     ]
    },
    {
     "name": "stdout",
     "output_type": "stream",
     "text": [
      "Processing frame 68 of 80...\n"
     ]
    },
    {
     "name": "stderr",
     "output_type": "stream",
     "text": [
      "100%|██████████| 164/164 [00:21<00:00,  7.72it/s]\n"
     ]
    },
    {
     "name": "stdout",
     "output_type": "stream",
     "text": [
      "Processing frame 69 of 80...\n"
     ]
    },
    {
     "name": "stderr",
     "output_type": "stream",
     "text": [
      "100%|███████████████████████████████████████████████| 164/164 [00:19<00:00,  8.46it/s]\n"
     ]
    },
    {
     "name": "stdout",
     "output_type": "stream",
     "text": [
      "Processing frame 70 of 80...\n"
     ]
    },
    {
     "name": "stderr",
     "output_type": "stream",
     "text": [
      "100%|███████████████████████████████████████████████| 164/164 [00:18<00:00,  8.65it/s]\n"
     ]
    },
    {
     "name": "stdout",
     "output_type": "stream",
     "text": [
      "Processing frame 71 of 80...\n"
     ]
    },
    {
     "name": "stderr",
     "output_type": "stream",
     "text": [
      "100%|███████████████████████████████████████████████| 164/164 [00:17<00:00,  9.29it/s]\n"
     ]
    },
    {
     "name": "stdout",
     "output_type": "stream",
     "text": [
      "Processing frame 72 of 80...\n"
     ]
    },
    {
     "name": "stderr",
     "output_type": "stream",
     "text": [
      "100%|███████████████████████████████████████████████| 164/164 [00:15<00:00, 10.27it/s]\n"
     ]
    },
    {
     "name": "stdout",
     "output_type": "stream",
     "text": [
      "Processing frame 73 of 80...\n"
     ]
    },
    {
     "name": "stderr",
     "output_type": "stream",
     "text": [
      "100%|███████████████████████████████████████████████| 164/164 [00:14<00:00, 11.04it/s]\n"
     ]
    },
    {
     "name": "stdout",
     "output_type": "stream",
     "text": [
      "Processing frame 74 of 80...\n"
     ]
    },
    {
     "name": "stderr",
     "output_type": "stream",
     "text": [
      "100%|███████████████████████████████████████████████| 164/164 [00:14<00:00, 11.08it/s]\n"
     ]
    },
    {
     "name": "stdout",
     "output_type": "stream",
     "text": [
      "Processing frame 75 of 80...\n"
     ]
    },
    {
     "name": "stderr",
     "output_type": "stream",
     "text": [
      "100%|███████████████████████████████████████████████| 164/164 [00:13<00:00, 12.43it/s]\n"
     ]
    },
    {
     "name": "stdout",
     "output_type": "stream",
     "text": [
      "Processing frame 76 of 80...\n"
     ]
    },
    {
     "name": "stderr",
     "output_type": "stream",
     "text": [
      "100%|███████████████████████████████████████████████| 164/164 [00:12<00:00, 13.55it/s]\n"
     ]
    },
    {
     "name": "stdout",
     "output_type": "stream",
     "text": [
      "Processing frame 77 of 80...\n"
     ]
    },
    {
     "name": "stderr",
     "output_type": "stream",
     "text": [
      "100%|███████████████████████████████████████████████| 164/164 [00:09<00:00, 16.72it/s]\n"
     ]
    },
    {
     "name": "stdout",
     "output_type": "stream",
     "text": [
      "Processing frame 78 of 80...\n"
     ]
    },
    {
     "name": "stderr",
     "output_type": "stream",
     "text": [
      "100%|███████████████████████████████████████████████| 164/164 [00:08<00:00, 20.34it/s]\n"
     ]
    },
    {
     "name": "stdout",
     "output_type": "stream",
     "text": [
      "Processing frame 79 of 80...\n"
     ]
    },
    {
     "name": "stderr",
     "output_type": "stream",
     "text": [
      "100%|███████████████████████████████████████████████| 164/164 [00:02<00:00, 62.63it/s]\n"
     ]
    }
   ],
   "source": [
    "frames = []\n",
    "\n",
    "scaleFac = 10.0\n",
    "\n",
    "for f in range(int(minF), int(maxF)):\n",
    "    canvas = np.zeros((int(maxY*scaleFac)+1, int(maxX*scaleFac)+1, 4))\n",
    "    print(f\"Processing frame {f} of {int(maxF)}...\")\n",
    "    for tile in progress(tilingJSON):\n",
    "        if (tile[\"minF\"] <= f) and (tile[\"maxF\"] >= f):\n",
    "            seq = getImageSeq(tile[\"group\"], tile[\"color\"])\n",
    "            tileFrame = int( ((f - tile[\"minF\"]) / (tile[\"maxF\"] - tile[\"minF\"])) * len(seq) )\n",
    "            tileImg = seq[tileFrame]\n",
    "            blit_transparent_image(canvas, tileImg, int(tile[\"minX\"]*scaleFac), int(tile[\"minY\"]*scaleFac), int(tile[\"maxX\"]*scaleFac), int(tile[\"maxY\"]*scaleFac))\n",
    "    Image.fromarray((canvas * 255).astype(np.uint8)).save(f\"frame__{f:04}.png\")"
   ]
  },
  {
   "cell_type": "code",
   "execution_count": 86,
   "id": "01408dd3-494e-4c94-9850-3110fea61cab",
   "metadata": {},
   "outputs": [
    {
     "data": {
      "text/plain": [
       "<matplotlib.image.AxesImage at 0x7a37fe8b2990>"
      ]
     },
     "execution_count": 86,
     "metadata": {},
     "output_type": "execute_result"
    },
    {
     "data": {
      "image/png": "[encoded data removed]",
      "text/plain": [
       "<Figure size 640x480 with 1 Axes>"
      ]
     },
     "metadata": {},
     "output_type": "display_data"
    }
   ],
   "source": [
    "plt.imshow(canvas)"
   ]
  },
  {
   "cell_type": "code",
   "execution_count": 87,
   "id": "ab72d36a-5b2c-4752-b4e0-1cef1e3a1dde",
   "metadata": {},
   "outputs": [
    {
     "name": "stdout",
     "output_type": "stream",
     "text": [
      "Requirement already satisfied: pillow in ./.venv/lib/python3.13/site-packages (11.2.1)\n",
      "\n",
      "\u001b[1m[\u001b[0m\u001b[34;49mnotice\u001b[0m\u001b[1;39;49m]\u001b[0m\u001b[39;49m A new release of pip is available: \u001b[0m\u001b[31;49m24.3.1\u001b[0m\u001b[39;49m -> \u001b[0m\u001b[32;49m25.0.1\u001b[0m\n",
      "\u001b[1m[\u001b[0m\u001b[34;49mnotice\u001b[0m\u001b[1;39;49m]\u001b[0m\u001b[39;49m To update, run: \u001b[0m\u001b[32;49mpip install --upgrade pip\u001b[0m\n"
     ]
    }
   ],
   "source": [
    "!pip install pillow"
   ]
  },
  {
   "cell_type": "code",
   "execution_count": 97,
   "id": "9dbe0e03-4e46-4521-ba13-c565b52b6ac5",
   "metadata": {},
   "outputs": [
    {
     "data": {
      "image/png": "[encoded data removed]",
      "text/plain": [
       "<PIL.Image.Image image mode=RGBA size=1446x1054>"
      ]
     },
     "execution_count": 97,
     "metadata": {},
     "output_type": "execute_result"
    }
   ],
   "source": [
    "Image.fromarray((canvas * 255).astype(np.uint8))"
   ]
  },
  {
   "cell_type": "code",
   "execution_count": null,
   "id": "84842668-70e9-46e0-a9d7-6c3a1bcf1b2c",
   "metadata": {},
   "outputs": [],
   "source": []
  }
 ],
 "metadata": {
  "kernelspec": {
   "display_name": "Python 3 (ipykernel)",
   "language": "python",
   "name": "python3"
  },
  "language_info": {
   "codemirror_mode": {
    "name": "ipython",
    "version": 3
   },
   "file_extension": ".py",
   "mimetype": "text/x-python",
   "name": "python",
   "nbconvert_exporter": "python",
   "pygments_lexer": "ipython3",
   "version": "3.13.2"
  }
 },
 "nbformat": 4,
 "nbformat_minor": 5
}
